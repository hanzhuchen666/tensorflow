{
 "cells": [
  {
   "cell_type": "code",
   "execution_count": 1,
   "id": "a7369903",
   "metadata": {},
   "outputs": [],
   "source": [
    "import tensorflow as tf\n",
    "\n",
    "import os\n",
    "import pathlib\n",
    "import time\n",
    "import datetime\n",
    "\n",
    "from matplotlib import pyplot as plt\n",
    "from IPython import display"
   ]
  },
  {
   "cell_type": "code",
   "execution_count": 2,
   "id": "3a3c221b",
   "metadata": {},
   "outputs": [
    {
     "name": "stdout",
     "output_type": "stream",
     "text": [
      "Downloading data from http://efrosgans.eecs.berkeley.edu/pix2pix/datasets/facades.tar.gz\n",
      "30171136/30168306 [==============================] - 12s 0us/step\n"
     ]
    }
   ],
   "source": [
    "dataset_name = \"facades\"\n",
    "\n",
    "_URL = f'http://efrosgans.eecs.berkeley.edu/pix2pix/datasets/{dataset_name}.tar.gz'\n",
    "\n",
    "path_to_zip = tf.keras.utils.get_file(\n",
    "    fname=f\"{dataset_name}.tar.gz\",\n",
    "    origin=_URL,\n",
    "    extract=True)\n",
    "\n",
    "path_to_zip  = pathlib.Path(path_to_zip)\n",
    "\n",
    "PATH = path_to_zip.parent/dataset_name"
   ]
  },
  {
   "cell_type": "code",
   "execution_count": 3,
   "id": "280b5345",
   "metadata": {},
   "outputs": [
    {
     "data": {
      "text/plain": [
       "[WindowsPath('C:/Users/MuYuChen/.keras/datasets/auto-mpg.data'),\n",
       " WindowsPath('C:/Users/MuYuChen/.keras/datasets/facades'),\n",
       " WindowsPath('C:/Users/MuYuChen/.keras/datasets/facades.tar.gz'),\n",
       " WindowsPath('C:/Users/MuYuChen/.keras/datasets/fashion-mnist'),\n",
       " WindowsPath('C:/Users/MuYuChen/.keras/datasets/imdb.npz'),\n",
       " WindowsPath('C:/Users/MuYuChen/.keras/datasets/imdb_word_index.json'),\n",
       " WindowsPath('C:/Users/MuYuChen/.keras/datasets/mnist.npz'),\n",
       " WindowsPath('C:/Users/MuYuChen/.keras/datasets/shakespeare.txt')]"
      ]
     },
     "execution_count": 3,
     "metadata": {},
     "output_type": "execute_result"
    }
   ],
   "source": [
    "list(PATH.parent.iterdir())"
   ]
  },
  {
   "cell_type": "code",
   "execution_count": 5,
   "id": "38ca3144",
   "metadata": {},
   "outputs": [
    {
     "name": "stdout",
     "output_type": "stream",
     "text": [
      "(256, 512, 3)\n"
     ]
    }
   ],
   "source": [
    "sample_image = tf.io.read_file(str(PATH / 'train/1.jpg'))\n",
    "sample_image = tf.io.decode_jpeg(sample_image)\n",
    "print(sample_image.shape)"
   ]
  },
  {
   "cell_type": "code",
   "execution_count": null,
   "id": "28c4ad5c",
   "metadata": {},
   "outputs": [],
   "source": []
  }
 ],
 "metadata": {
  "kernelspec": {
   "display_name": "tensorflow = 3.8",
   "language": "python",
   "name": "tensorflow"
  },
  "language_info": {
   "codemirror_mode": {
    "name": "ipython",
    "version": 3
   },
   "file_extension": ".py",
   "mimetype": "text/x-python",
   "name": "python",
   "nbconvert_exporter": "python",
   "pygments_lexer": "ipython3",
   "version": "3.8.8"
  }
 },
 "nbformat": 4,
 "nbformat_minor": 5
}
