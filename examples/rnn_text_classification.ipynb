{
 "cells": [],
 "metadata": {
  "kernelspec": {
   "display_name": "tensorflow = 3.8",
   "language": "python",
   "name": "tensorflow"
  },
  "language_info": {
   "codemirror_mode": {
    "name": "ipython",
    "version": 3
   },
   "file_extension": ".py",
   "mimetype": "text/x-python",
   "name": "python",
   "nbconvert_exporter": "python",
   "pygments_lexer": "ipython3",
   "version": "3.8.10"
  },
  "pycharm": {
   "stem_cell": {
    "cell_type": "raw",
    "source": [
     "\n",
     "\n",
     "import tensorflow_datasets as tfds\n",
     "import tensorflow as tf\n",
     "import matplotlib.pyplot as plt\n",
     "#auxilary function to plot image\n",
     "def plot_graphs(history, metric):\n",
     "    plt.plot(history.history[metric])\n",
     "    plt.plot(history.history['val_'+metirc], '')\n",
     "    plt.xlabel(\"Epochs\")\n",
     "    plt.ylabel(metric)\n",
     "    plt.legend([metric, 'val_'+metric])\n",
     "    plt.show()\n",
     "\n",
     "\n",
     "\n",
     "dataset, info = tfds.load('imdb_reviews/subwords8k', with_info=True,\n",
     "                          as_supervised=True)\n",
     "train_dataset, test_dataset = dataset['train'], dataset['test']\n",
     "\n",
     "\n",
     "\n",
     "encoder = info.features['text'].encoder\n",
     "print('Vocabulary size: {}'.format(encoder.vocab_size))\n",
     "\n",
     "\n",
     "\n",
     "\n"
    ],
    "metadata": {
     "collapsed": false
    }
   }
  }
 },
 "nbformat": 4,
 "nbformat_minor": 4
}