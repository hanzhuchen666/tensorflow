{
 "cells": [
  {
   "cell_type": "code",
   "execution_count": 2,
   "id": "c8ac7166",
   "metadata": {},
   "outputs": [
    {
     "name": "stdout",
     "output_type": "stream",
     "text": [
      "WARNING:tensorflow:From <ipython-input-2-46ff889b56b7>:2: is_gpu_available (from tensorflow.python.framework.test_util) is deprecated and will be removed in a future version.\n",
      "Instructions for updating:\n",
      "Use `tf.config.list_physical_devices('GPU')` instead.\n",
      "True\n"
     ]
    }
   ],
   "source": [
    "import tensorflow as tf\n",
    "print(tf.test.is_gpu_available())"
   ]
  },
  {
   "cell_type": "code",
   "execution_count": 3,
   "id": "20cf3378",
   "metadata": {},
   "outputs": [],
   "source": [
    "layer = tf.keras.layers.Dense(100)\n",
    "layer = tf.keras.layers.Dense(10, input_shape = (None, 5))\n",
    "#y有关于keras的全部可用功能看到https://tensorflow.google.cn/api_docs/python/tf/keras/layers"
   ]
  },
  {
   "cell_type": "code",
   "execution_count": 4,
   "id": "27ea0e8a",
   "metadata": {},
   "outputs": [
    {
     "data": {
      "text/plain": [
       "<tf.Tensor: shape=(10, 10), dtype=float32, numpy=\n",
       "array([[0., 0., 0., 0., 0., 0., 0., 0., 0., 0.],\n",
       "       [0., 0., 0., 0., 0., 0., 0., 0., 0., 0.],\n",
       "       [0., 0., 0., 0., 0., 0., 0., 0., 0., 0.],\n",
       "       [0., 0., 0., 0., 0., 0., 0., 0., 0., 0.],\n",
       "       [0., 0., 0., 0., 0., 0., 0., 0., 0., 0.],\n",
       "       [0., 0., 0., 0., 0., 0., 0., 0., 0., 0.],\n",
       "       [0., 0., 0., 0., 0., 0., 0., 0., 0., 0.],\n",
       "       [0., 0., 0., 0., 0., 0., 0., 0., 0., 0.],\n",
       "       [0., 0., 0., 0., 0., 0., 0., 0., 0., 0.],\n",
       "       [0., 0., 0., 0., 0., 0., 0., 0., 0., 0.]], dtype=float32)>"
      ]
     },
     "execution_count": 4,
     "metadata": {},
     "output_type": "execute_result"
    }
   ],
   "source": [
    "layer(tf.zeros([10,5]))"
   ]
  },
  {
   "cell_type": "code",
   "execution_count": 5,
   "id": "56f788a9",
   "metadata": {},
   "outputs": [
    {
     "data": {
      "text/plain": [
       "[<tf.Variable 'dense_1/kernel:0' shape=(5, 10) dtype=float32, numpy=\n",
       " array([[ 0.11527622, -0.48693377, -0.5839218 ,  0.51580745, -0.23092273,\n",
       "         -0.37315896, -0.44899142,  0.56136006,  0.150172  ,  0.5493092 ],\n",
       "        [-0.4245417 , -0.5442909 , -0.05779731,  0.5966503 ,  0.06543297,\n",
       "         -0.34715357, -0.17304471,  0.33078587,  0.51651365,  0.138547  ],\n",
       "        [-0.47808862, -0.061647  , -0.5737171 ,  0.17473555,  0.14625072,\n",
       "         -0.54222375,  0.28609556,  0.08838367,  0.17017883,  0.39209932],\n",
       "        [-0.01161784,  0.49357027, -0.36919895,  0.22138137,  0.31170666,\n",
       "         -0.24094132,  0.06301039,  0.02464044,  0.47321695, -0.2549142 ],\n",
       "        [-0.04676336,  0.04095614,  0.21719307,  0.2788465 ,  0.13980716,\n",
       "         -0.11309004, -0.30194154, -0.28280234, -0.37080544, -0.3699969 ]],\n",
       "       dtype=float32)>,\n",
       " <tf.Variable 'dense_1/bias:0' shape=(10,) dtype=float32, numpy=array([0., 0., 0., 0., 0., 0., 0., 0., 0., 0.], dtype=float32)>]"
      ]
     },
     "execution_count": 5,
     "metadata": {},
     "output_type": "execute_result"
    }
   ],
   "source": [
    "layer.variables"
   ]
  },
  {
   "cell_type": "code",
   "execution_count": 6,
   "id": "9f0db626",
   "metadata": {},
   "outputs": [],
   "source": [
    "#write the custom class using keras\n",
    "class MyDenseLayer(tf.keras.layers.Layer):\n",
    "    #where you do the input independent initialization\n",
    "    def __init__(self, num_outputs):\n",
    "        super(MyDenseLayer, self).__init__()\n",
    "        self.num_outputs = num_outputs\n",
    "    #where you know the shapes of the input tensors and can do the rest of the initialization\n",
    "    def build(self, input_shape):\n",
    "        self.kernel = self.add_weight(\"kernel\",\n",
    "                                     shape = [int(input_shape[-1]),\n",
    "                                            self.num_outputs])  \n",
    "                                        \n",
    "    #call, where you do the forward computation                                 \n",
    "    def call(self, inputs):\n",
    "        return tf.matmul(inputs, self.kernel)\n",
    "\n",
    "layer = MyDenseLayer(10)"
   ]
  },
  {
   "cell_type": "code",
   "execution_count": 7,
   "id": "bc681b35",
   "metadata": {},
   "outputs": [
    {
     "name": "stdout",
     "output_type": "stream",
     "text": [
      "['my_dense_layer/kernel:0']\n"
     ]
    }
   ],
   "source": [
    "_ = layer(tf.zeros([10, 5]))#calling the layer '.builds' it\n",
    "print([var.name for var in layer.trainable_variables])"
   ]
  },
  {
   "cell_type": "code",
   "execution_count": 13,
   "id": "d8e7f5f2",
   "metadata": {},
   "outputs": [],
   "source": [
    "#typically yu=ou inherit from keras.model when you need the model methods like model.fit, model.evaluate and model.save\n",
    "\n",
    "class ResnetIdentityBlock(tf.keras.Model):\n",
    "    def __init__(self, kernel_size, filters):\n",
    "        super(ResnetIdentityBlock, self).__init__(name='')\n",
    "        filters1, filters2, filters3 = filters\n",
    "        \n",
    "        self.conv2a = tf.keras.layers.Conv2D(filters1, (1,1))\n",
    "        self.bn2a = tf.keras.layers.BatchNormalization()\n",
    "        self.conv2b = tf.keras.layers.Conv2D(filters2, kernel_size, padding='same')\n",
    "        self.bn2b = tf.keras.layers.BatchNormalization()\n",
    "        self.conv2c = tf.keras.layers.Conv2D(filters3, (1,1))\n",
    "        self.bn2c = tf.keras.layers.BatchNormalization()\n",
    "        \n",
    "    def call(self, input_tensor, training = False):\n",
    "        x = self.conv2a(input_tensor)\n",
    "        x = self.bn2a(x, training=training)\n",
    "        x = tf.nn.relu(x)\n",
    "        \n",
    "        x = self.conv2b(x)\n",
    "        x = self.bn2b(x, training = training)\n",
    "        x = tf.nn.relu(x)\n",
    "        \n",
    "        x = self.conv2c(x)\n",
    "        x = self.bn2c(x, training = training)\n",
    "        \n",
    "        x += input_tensor\n",
    "        return tf.nn.relu(x)\n",
    "    \n",
    "block = ResnetIdentityBlock(1, [1,2,3])\n",
    "\n"
   ]
  },
  {
   "cell_type": "code",
   "execution_count": 14,
   "id": "bb1fd862",
   "metadata": {},
   "outputs": [
    {
     "data": {
      "text/plain": [
       "[<tensorflow.python.keras.layers.convolutional.Conv2D at 0x2968b57c160>,\n",
       " <tensorflow.python.keras.layers.normalization_v2.BatchNormalization at 0x29727b8bf70>,\n",
       " <tensorflow.python.keras.layers.convolutional.Conv2D at 0x29727b78700>,\n",
       " <tensorflow.python.keras.layers.normalization_v2.BatchNormalization at 0x29727b78bb0>,\n",
       " <tensorflow.python.keras.layers.convolutional.Conv2D at 0x29727b78fd0>,\n",
       " <tensorflow.python.keras.layers.normalization_v2.BatchNormalization at 0x29727b7e400>]"
      ]
     },
     "execution_count": 14,
     "metadata": {},
     "output_type": "execute_result"
    }
   ],
   "source": [
    "_ = block(tf.zeros([1,2,3,3]))\n",
    "block.layers"
   ]
  },
  {
   "cell_type": "code",
   "execution_count": 15,
   "id": "f011d3f7",
   "metadata": {},
   "outputs": [
    {
     "data": {
      "text/plain": [
       "18"
      ]
     },
     "execution_count": 15,
     "metadata": {},
     "output_type": "execute_result"
    }
   ],
   "source": [
    "len(block.variables)"
   ]
  },
  {
   "cell_type": "code",
   "execution_count": 16,
   "id": "26cf9c87",
   "metadata": {},
   "outputs": [
    {
     "name": "stdout",
     "output_type": "stream",
     "text": [
      "Model: \"resnet_identity_block_2\"\n",
      "_________________________________________________________________\n",
      "Layer (type)                 Output Shape              Param #   \n",
      "=================================================================\n",
      "conv2d_6 (Conv2D)            multiple                  4         \n",
      "_________________________________________________________________\n",
      "batch_normalization_6 (Batch multiple                  4         \n",
      "_________________________________________________________________\n",
      "conv2d_7 (Conv2D)            multiple                  4         \n",
      "_________________________________________________________________\n",
      "batch_normalization_7 (Batch multiple                  8         \n",
      "_________________________________________________________________\n",
      "conv2d_8 (Conv2D)            multiple                  9         \n",
      "_________________________________________________________________\n",
      "batch_normalization_8 (Batch multiple                  12        \n",
      "=================================================================\n",
      "Total params: 41\n",
      "Trainable params: 29\n",
      "Non-trainable params: 12\n",
      "_________________________________________________________________\n"
     ]
    }
   ],
   "source": [
    "block.summary()"
   ]
  },
  {
   "cell_type": "code",
   "execution_count": 18,
   "id": "98e1acaa",
   "metadata": {},
   "outputs": [
    {
     "data": {
      "text/plain": [
       "<tf.Tensor: shape=(1, 2, 3, 3), dtype=float32, numpy=\n",
       "array([[[[0., 0., 0.],\n",
       "         [0., 0., 0.],\n",
       "         [0., 0., 0.]],\n",
       "\n",
       "        [[0., 0., 0.],\n",
       "         [0., 0., 0.],\n",
       "         [0., 0., 0.]]]], dtype=float32)>"
      ]
     },
     "execution_count": 18,
     "metadata": {},
     "output_type": "execute_result"
    }
   ],
   "source": [
    "#another simple method to construct model\n",
    "\n",
    "my_seq = tf.keras.Sequential([tf.keras.layers.Conv2D(1,(1,1),\n",
    "                                                    input_shape=(\n",
    "                                                    None, None, 3)),\n",
    "                             tf.keras.layers.BatchNormalization(),\n",
    "                             tf.keras.layers.Conv2D(2,1,\n",
    "                                                   padding='same'),\n",
    "                             tf.keras.layers.BatchNormalization(),\n",
    "                             tf.keras.layers.Conv2D(3,(1,1)),\n",
    "                             tf.keras.layers.BatchNormalization()])\n",
    "my_seq(tf.zeros([1,2,3,3]))"
   ]
  },
  {
   "cell_type": "code",
   "execution_count": 19,
   "id": "e1105e00",
   "metadata": {},
   "outputs": [
    {
     "name": "stdout",
     "output_type": "stream",
     "text": [
      "Model: \"sequential\"\n",
      "_________________________________________________________________\n",
      "Layer (type)                 Output Shape              Param #   \n",
      "=================================================================\n",
      "conv2d_10 (Conv2D)           (None, None, None, 1)     4         \n",
      "_________________________________________________________________\n",
      "batch_normalization_10 (Batc (None, None, None, 1)     4         \n",
      "_________________________________________________________________\n",
      "conv2d_11 (Conv2D)           (None, None, None, 2)     4         \n",
      "_________________________________________________________________\n",
      "batch_normalization_11 (Batc (None, None, None, 2)     8         \n",
      "_________________________________________________________________\n",
      "conv2d_12 (Conv2D)           (None, None, None, 3)     9         \n",
      "_________________________________________________________________\n",
      "batch_normalization_12 (Batc (None, None, None, 3)     12        \n",
      "=================================================================\n",
      "Total params: 41\n",
      "Trainable params: 29\n",
      "Non-trainable params: 12\n",
      "_________________________________________________________________\n"
     ]
    }
   ],
   "source": [
    "my_seq.summary()"
   ]
  },
  {
   "cell_type": "code",
   "execution_count": null,
   "id": "ef4aab51",
   "metadata": {},
   "outputs": [],
   "source": []
  }
 ],
 "metadata": {
  "kernelspec": {
   "display_name": "tensorflow = 3.8",
   "language": "python",
   "name": "tensorflow"
  },
  "language_info": {
   "codemirror_mode": {
    "name": "ipython",
    "version": 3
   },
   "file_extension": ".py",
   "mimetype": "text/x-python",
   "name": "python",
   "nbconvert_exporter": "python",
   "pygments_lexer": "ipython3",
   "version": "3.8.8"
  }
 },
 "nbformat": 4,
 "nbformat_minor": 5
}
